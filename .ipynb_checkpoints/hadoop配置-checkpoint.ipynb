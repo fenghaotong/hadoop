{
 "cells": [
  {
   "cell_type": "markdown",
   "metadata": {},
   "source": [
    "# hadoop配置\n",
    "\n",
    "- [hadoop基础知识](hadoop基础知识.ipynb)"
   ]
  },
  {
   "cell_type": "markdown",
   "metadata": {},
   "source": [
    "- java JDK(下载jdk解压配置环境变量)\n",
    "- nc(网络安全工具)\n",
    "- gcc\n",
    "- bashdb（下载bashdb, 配置、编译、安装）\n",
    "- apache\n",
    "- nginx"
   ]
  },
  {
   "cell_type": "markdown",
   "metadata": {},
   "source": [
    "### 节点规划\n",
    "\n",
    "|主机名称| IP地址 | 功能|\n",
    "|:---:|:----|:-----|\n",
    "|hadoop1|192.168.75.111|NameNode、DataNode、resourcemanager、nodemanager|\n",
    "|hadoop2|192.168.75.111|DataNode、nodemanager|\n",
    "|hadoop3|192.168.75.111|DataNode、nodemanager|"
   ]
  },
  {
   "cell_type": "markdown",
   "metadata": {},
   "source": [
    "### 创建虚拟机配置网络"
   ]
  },
  {
   "cell_type": "markdown",
   "metadata": {},
   "source": [
    "- 手动配置DHCP\n",
    "- 修改域名，在/etc/sysconfig/network中添加HOSTNAME=hadoop1\n",
    "- 把域名添加到/etc/hosts中\n",
    "```\n",
    "192.168.75.111 hadoop1 www.hadoop1.com\n",
    "```\n",
    "\n",
    "- 修改/etc/sysconfig/network-scripts/ifcfg-ens33文件\n",
    "    - 添加DNS和网关一样\n",
    "    - ONBOOT=yes"
   ]
  },
  {
   "cell_type": "markdown",
   "metadata": {},
   "source": [
    "#### 安装nginx"
   ]
  },
  {
   "cell_type": "markdown",
   "metadata": {},
   "source": [
    "\n",
    "- [pcre](http://www.pcre.org/)\n",
    "\n",
    "```\n",
    "tar zxvf pcre-8.36.tar.gz\n",
    "cd pcre-8.36\n",
    "./configure && make && make install\n",
    "```\n",
    "\n",
    "- [openssl](http://www.openssl.org/ ) \n",
    "```\n",
    " tar zxvf openssl-1.1.1.tar.gz\n",
    "cd openssl-fips-1.1.1\n",
    "./config && make && make install\n",
    "```\n",
    "- [zlib](http://www.zlib.net/)\n",
    "```\n",
    "tar zxvf zlib-1.2.11.tar.gz\n",
    "cd zlib-1.2.11\n",
    "./configure && make && make install\n",
    "```\n",
    "- [nginx](http://nginx.org/download/)\n",
    "\n",
    "```\n",
    "tar zxvf nginx-1.14.0.tar.gz\n",
    "cd nginx-1.14.0\n",
    " ./configure && make && make install\n",
    " ```"
   ]
  },
  {
   "cell_type": "markdown",
   "metadata": {},
   "source": [
    "### 单机版hadoop配置"
   ]
  },
  {
   "cell_type": "markdown",
   "metadata": {},
   "source": [
    "- 下载[hadoop](http://hadoop.apache.org/releases.html)\n",
    "- 解压压缩包到`/usr/local/`目录\n",
    "- 配置环境变量\n",
    "- 修改hadoop/etc/hadoop/hadoop-env.sh文件中的JAVA环境变量为JDK路径\n",
    "- 测试\n",
    "```\n",
    "    which hadoop\n",
    "    hadoop version\n",
    "```    "
   ]
  },
  {
   "cell_type": "markdown",
   "metadata": {},
   "source": [
    "```shell\n",
    "$ mkdir /home/htfeng/data/input\n",
    "$ cp hadoop/etc/hadoop/*.xml /home/htfeng/data/input\n",
    "$ hadoop jar share/hadoop/mapreduce/hadoop-mapreduce-examples-2.9.1.jar grep /home/htfeng/data/input /home/htfeng/data/output 'dfs[a-z.]+'\n",
    "$ cat /home/htfeng/data/output/*\n",
    "$ hdfs dfs -ls /\n",
    "```"
   ]
  },
  {
   "cell_type": "markdown",
   "metadata": {},
   "source": [
    "### 克隆虚拟机"
   ]
  },
  {
   "cell_type": "markdown",
   "metadata": {},
   "source": [
    "- 修改网卡信息（忽略）\n",
    "\n",
    "```\n",
    "vi /etc/udev/rules.d/70-persistent-ipoib.rules \n",
    "```\n",
    "\n",
    "- 修改主机名\n",
    "\n",
    "```\n",
    "vi /etc/sysconfig/network\n",
    "```\n",
    "\n",
    "- 修改ip信息\n",
    "\n",
    "```\n",
    "vi /etc/sysconfig/network-scripts/ifcfg-ens33\n",
    "\n",
    "修改ip、硬件地址和UUID\n",
    "```\n",
    "\n",
    "- 修改映射\n",
    "\n",
    "```\n",
    "vi /etc/hosts  \n",
    "\n",
    "192.168.75.112 hadoop2 www.hadoop2.com\n",
    "```"
   ]
  },
  {
   "cell_type": "markdown",
   "metadata": {},
   "source": [
    "### 集群配置\n",
    "\n",
    "- 配置JDK\n",
    "- 配置hadoop\n",
    "- 配置hadoop-env.sh\n",
    "- 配置hadoop-core-site.xml\n",
    "- 配置hadoop-hdfs-site.xml\n",
    "- 配置hadoop-mapred-site.xml\n",
    "- 配置hadoop-yarn-site.xml\n",
    "- 配置slave\n",
    "- 发送hadoop文件到所有机子上"
   ]
  },
  {
   "cell_type": "markdown",
   "metadata": {},
   "source": [
    "**[配置core-site.xml](hadoop基础知识.ipynb#配置core-site.xml)**"
   ]
  },
  {
   "cell_type": "markdown",
   "metadata": {},
   "source": [
    "**[配置hadoop-hdfs-site.xml](hadoop基础知识.ipynb#配置hadoop-hdfs-site.xml)**"
   ]
  },
  {
   "cell_type": "markdown",
   "metadata": {},
   "source": [
    "**[配置hadoop-mapred-site.xml](hadoop基础知识.ipynb#配置hadoop-mapred-site.xml)**"
   ]
  },
  {
   "cell_type": "markdown",
   "metadata": {},
   "source": [
    "**[配置hadoop-yarn-site.xml](hadoop基础知识.ipynb#配置hadoop-yarn-site.xml)**"
   ]
  },
  {
   "cell_type": "markdown",
   "metadata": {},
   "source": [
    "**[配置slave](hadoop基础知识.ipynb#配置slave)**"
   ]
  },
  {
   "cell_type": "markdown",
   "metadata": {},
   "source": [
    "** 发送hadoop文件到所有机子上 **\n",
    "\n",
    "```\n",
    "scp -r ../hadoop-2.8.4/ hadoop2:/usr/local/\n",
    "scp -r ../hadoop-2.8.4/ hadoop3:/usr/local/\n",
    "```"
   ]
  },
  {
   "cell_type": "markdown",
   "metadata": {},
   "source": [
    "**启动之前在namenode服务器上格式化，只需一次即可**\n",
    "\n",
    "- 关闭防火墙\n",
    "\n",
    "```\n",
    "systemctl stop firewalld.service\n",
    "```\n",
    "\n",
    "```\n",
    "hadoop namenode -format\n",
    "\n",
    "全启动：start-all.sh\n",
    "模块启动：\n",
    "start-dfs.sh\n",
    "start-yarn.sh\n",
    "单个进程启动\n",
    "hadoop-daemon.sh start/stop namenode\n",
    "hadoop-daemons.sh start/stop datanode\n",
    "yarn-daemon.sh start/stop namenode\n",
    "yarn-daemons.sh start/stop datanode\n",
    "mr-jobhistory-daemon.sh start/stop historyserver\n",
    "```\n",
    "\n",
    "> netstat -tnpl:查看启动端口"
   ]
  },
  {
   "cell_type": "markdown",
   "metadata": {},
   "source": [
    "- 启动start-dfs.sh测试\n",
    "```\n",
    "http://192.168.75.111:50070\n",
    "```\n",
    "- 上传和下载文件（测试hdfs）\n",
    "```\n",
    "hdfs dfs -put ./README.txt /\n",
    "```\n",
    "- 启动start-yarn.sh跑一个mapreduce作业\n",
    "```\n",
    "yarn jar ./share/hadoop/mapreduce/hadoop-mapreduce-examples-2.8.4.jar wordcount /README.txt /out/00\n",
    "```"
   ]
  },
  {
   "cell_type": "markdown",
   "metadata": {},
   "source": [
    "### 免密登录"
   ]
  },
  {
   "cell_type": "markdown",
   "metadata": {},
   "source": [
    "```\n",
    "ssh-keygen -t rsa\n",
    "ssh-copy-id hadoop1\n",
    "ssh-copy-id hadoop2\n",
    "ssh-copy-id hadoop3\n",
    "```"
   ]
  },
  {
   "cell_type": "markdown",
   "metadata": {},
   "source": [
    "## HDFS shell"
   ]
  },
  {
   "cell_type": "markdown",
   "metadata": {},
   "source": [
    "### hdfs的shell"
   ]
  },
  {
   "cell_type": "markdown",
   "metadata": {},
   "source": [
    "命令和shell命令基本一致\n",
    "\n",
    "```shell\n",
    "hdfs dfs -\n",
    "\n",
    "Usage: hadoop fs [generic options]\n",
    "\t[-appendToFile <localsrc> ... <dst>]\n",
    "\t[-cat [-ignoreCrc] <src> ...]\n",
    "\t[-checksum <src> ...]\n",
    "\t[-chgrp [-R] GROUP PATH...]\n",
    "\t[-chmod [-R] <MODE[,MODE]... | OCTALMODE> PATH...]\n",
    "...\n",
    "```"
   ]
  },
  {
   "cell_type": "markdown",
   "metadata": {},
   "source": [
    "```\n",
    "hdfs dfs -ls /   \n",
    "hadoop fs - /  \n",
    "hdfs dfs -ls -R / #递归查看  \n",
    "hdfs dfs -mkdir -p /  #递归创建\n",
    "hdfs dfs -touchz  /test/te.txt\n",
    "hdfs dfs -put ./if.sh /if.sh  # 本地目录上传到hdfs文件目录\n",
    "hdfs dfs -get /if.sh /home/htfeng  #从hdfs文件目录下载\n",
    "hdfs dfs -du -s / #统计目录大小\n",
    "```"
   ]
  },
  {
   "cell_type": "markdown",
   "metadata": {},
   "source": [
    "### window中安装maven\n",
    "\n",
    "- 下载[maven](http://mirrors.shu.edu.cn/apache/maven/maven-3/3.5.3/binaries/apache-maven-3.5.3-bin.zip)\n",
    "- 解压并复制到一个目录\n",
    "- 配置环境变量\n",
    "- 配置maven，修改settings.xml文件，指定本地仓库位置`H:\\hadoop\\mvnrepositry`， [maven](http://mvnrepository.com/)库\n",
    "- 和java的编辑工具整合（eclipse,idea,myeclipse等）"
   ]
  },
  {
   "cell_type": "markdown",
   "metadata": {},
   "source": [
    "[maven项目测试](maven测试.ipynb)"
   ]
  },
  {
   "cell_type": "markdown",
   "metadata": {},
   "source": [
    "### hadoop核心协议RPC（远程过程调用协议）"
   ]
  },
  {
   "cell_type": "markdown",
   "metadata": {},
   "source": [
    "例子\n",
    "\n",
    "- 建一个rpc的包，然后创建下面三个java脚本,[具体代码](RPC.ipynb)\n",
    "    - hello.java\n",
    "    - RPCServer.java\n",
    "    - RPCClient.java"
   ]
  },
  {
   "cell_type": "markdown",
   "metadata": {},
   "source": [
    "### zookeeper\n",
    "\n",
    "- [zookeeper基础知识](zookeeper.ipynb#zookeeper)\n",
    "- [Download](http://mirrors.hust.edu.cn/apache/zookeeper/zookeeper-3.4.10/zookeeper-3.4.10.tar.gz)"
   ]
  },
  {
   "cell_type": "markdown",
   "metadata": {},
   "source": [
    "- 解压到/usr/local/\n",
    "- 配置环境变量\n",
    "- 修改配置文件/zookeeper/conf/zoo.cfg\n",
    "\n",
    "```\n",
    "tickTime=2000\n",
    "initLimit=5\n",
    "syncLimit=2\n",
    "dataDir=/home/htfeng/zkdata/\n",
    "clientPort=2181\n",
    "server.1=hadoop1:2888:3888\n",
    "server.2=hadoop2:2888:3888\n",
    "server.3=hadoop3:2888:3888\n",
    "```"
   ]
  },
  {
   "cell_type": "markdown",
   "metadata": {},
   "source": [
    "**在每个服务器上面创建myid,内容为server.X中的X**\n",
    "```\n",
    "mkdir /home/htfeng/zkdata\n",
    "vi /home/htfeng/zkdata/myid\n",
    "```"
   ]
  },
  {
   "cell_type": "markdown",
   "metadata": {},
   "source": [
    "**[zookeeper测试](zookeeper.ipynb#zookeeper测试)**"
   ]
  },
  {
   "cell_type": "markdown",
   "metadata": {},
   "source": [
    "### HDFS的HA"
   ]
  },
  {
   "cell_type": "markdown",
   "metadata": {},
   "source": [
    "- [HDFS的HA基础讲解](HA.ipynb)"
   ]
  },
  {
   "cell_type": "markdown",
   "metadata": {},
   "source": [
    "**规划**\n",
    "\n",
    "|主机名称| IP地址 | 功能|\n",
    "|:---:|:----|:-----|\n",
    "|hadoop1|192.168.75.111|NameNode、DataNode、jouranlnode、quroumPeerMain、zkf|\n",
    "|hadoop2|192.168.75.111|DataNode、jouranlnode、quroumPeerMain、zkf|\n",
    "|hadoop3|192.168.75.111|DataNode、jouranlnode、quroumPeerMain|"
   ]
  },
  {
   "cell_type": "markdown",
   "metadata": {},
   "source": [
    "> 在配置HA之前，要对之前的配置做一个备份\n",
    "\n",
    "```\n",
    "mv /usr/local/hadoop-2.8.4/ /usr/local/hadoop-2.8.4_bak\n",
    "```"
   ]
  },
  {
   "cell_type": "markdown",
   "metadata": {},
   "source": [
    "#### [HA的配置](http://hadoop.apache.org/docs/r2.8.4/hadoop-project-dist/hadoop-hdfs/HDFSHighAvailabilityWithQJM.html)"
   ]
  },
  {
   "cell_type": "markdown",
   "metadata": {},
   "source": [
    "- 解压下载的hadoop，到/usr/local/目录下\n",
    "\n",
    "在/usr/local/hadoop-2.8.4/etc/hadoop/下\n",
    "- 配置hadoop-env.sh\n",
    "- 配置hadoop-core-site.xml\n",
    "- 配置hadoop-hdfs-site.xml\n",
    "- 配置slave\n",
    "- 发送hadoop文件到所有机子上\n",
    "- hadoop2也作为namenode免密登陆"
   ]
  },
  {
   "cell_type": "markdown",
   "metadata": {},
   "source": [
    "**[配置hadoop-env.sh](HA.ipynb#配置hadoop-env.sh)**"
   ]
  },
  {
   "cell_type": "markdown",
   "metadata": {},
   "source": [
    "**[配置hadoop-core-site.xml](HA.ipynb#配置hadoop-core-site.xml)**"
   ]
  },
  {
   "cell_type": "markdown",
   "metadata": {},
   "source": [
    "**[配置hadoop-hdfs-site.xml](HA.ipynb#配置hadoop-hdfs-site.xml)**"
   ]
  },
  {
   "cell_type": "markdown",
   "metadata": {},
   "source": [
    "**[配置slaves](HA.ipynb#配置slaves)**"
   ]
  },
  {
   "cell_type": "markdown",
   "metadata": {},
   "source": [
    "**发送hadoop文件到所有机子上**\n",
    "\n",
    "```\n",
    "scp -r ../hadoop-2.8.4/ hadoop2:/usr/local/\n",
    "scp -r ../hadoop-2.8.4/ hadoop3:/usr/local/\n",
    "```"
   ]
  },
  {
   "cell_type": "markdown",
   "metadata": {},
   "source": [
    "**hadoop2也作为namenode免密登陆**\n",
    "\n",
    "- 在hadoop2主机上\n",
    "\n",
    "```\n",
    "ssh-keygen -t rsa\n",
    "ssh-copy-id hadoop2\n",
    "ssh-copy-id hadoop1\n",
    "ssh-copy-id hadoop3\n",
    "```"
   ]
  },
  {
   "cell_type": "markdown",
   "metadata": {},
   "source": [
    "**按步骤依次执行下面程序**\n",
    "\n",
    "- 启动zk\n",
    "- 启动journalnode服务（单个启动、多个进程启动）\n",
    "```\n",
    "hadoop-daemon.sh start journalnode\n",
    "hadoop-daemons.sh start journalnode\n",
    "```\n",
    "\n",
    "- 挑选两个namenode中的一台进行格式化，然后并且启动\n",
    "```\n",
    "hdfs namenode -format\n",
    "hadoop-daemon.sh start namenode\n",
    "```\n",
    "- 在另一台namenode的机器上拉去元数据（也可以复制）\n",
    "```\n",
    "hdfs namenode -bootstrapStandby\n",
    "```\n",
    "- 格式化zk\n",
    "```\n",
    "hdfs zkfc -formatZK\n",
    "```\n",
    "- 启动\n",
    "\n",
    "```\n",
    "start-dfs.sh\n",
    "```\n",
    "> 会有五个进程，查看是否全部启动   \n",
    "> 查看webUI是否正(http://192.168.75.111:50070,http://192.168.75.112:50070)  \n",
    "> 在hdfs中的读写文件  \n",
    "> 然后关闭一个namenode失败，查看是否自动切换   \n",
    "\n",
    "```\n",
    "kill -9 [namenode pid]\n",
    "hadoop-daemon.sh start namenode\n",
    "```"
   ]
  },
  {
   "cell_type": "markdown",
   "metadata": {},
   "source": [
    "### Yarn的HA"
   ]
  },
  {
   "cell_type": "markdown",
   "metadata": {},
   "source": [
    "**规划**\n",
    "\n",
    "|主机名称| IP地址 | 功能|\n",
    "|:---:|:----|:-----|\n",
    "|hadoop1|192.168.75.111|resourcemanager、nodemanager、quroumPeerMain|\n",
    "|hadoop2|192.168.75.111|nodemanager、quroumPeerMain|\n",
    "|hadoop3|192.168.75.111|nodemanager、quroumPeerMain|"
   ]
  },
  {
   "cell_type": "markdown",
   "metadata": {},
   "source": [
    "#### HA的配置\n",
    "\n",
    "- [HA基础](HA.ipybnb)\n",
    "- 配置yarn-site.xml\n",
    "- 配置mapred-site.xml\n",
    "- 远程发送\n",
    "- 直接启动\n",
    "- 测试"
   ]
  },
  {
   "cell_type": "markdown",
   "metadata": {},
   "source": [
    "**[配置yarn-site.xml](HA.ipynb#配置yarn-site.xml)**"
   ]
  },
  {
   "cell_type": "markdown",
   "metadata": {},
   "source": [
    "**[配置mapred-site.xml](HA.ipynb#配置mapred-site.xml)**"
   ]
  },
  {
   "cell_type": "markdown",
   "metadata": {},
   "source": [
    "**远程发送**\n",
    "\n",
    "```\n",
    "scp -r ./etc/hadoop/mapred-site.xml ./etc/hadoop/yarn-site.xml hadoop2:/usr/local/hadoop-2.8.4/etc/hadoop/\n",
    "\n",
    "scp -r ./etc/hadoop/mapred-site.xml ./etc/hadoop/yarn-site.xml hadoop3:/usr/local/hadoop-2.8.4/etc/hadoop/\n",
    "```"
   ]
  },
  {
   "cell_type": "markdown",
   "metadata": {},
   "source": [
    "**直接启动**\n",
    "\n",
    "```\n",
    "#hadoop1\n",
    "start-yarn.sh\n",
    "#hadoop2\n",
    "yarn-daemon.sh start resourcemanager\n",
    "```"
   ]
  },
  {
   "cell_type": "markdown",
   "metadata": {},
   "source": [
    "**测试**\n",
    "\n",
    "```\n",
    "yarn jar ./share/hadoop/mapreduce/hadoop-mapreduce-examples-2.8.4.jar wordcount /words /out/00\n",
    "```"
   ]
  },
  {
   "cell_type": "code",
   "execution_count": null,
   "metadata": {
    "collapsed": true
   },
   "outputs": [],
   "source": []
  }
 ],
 "metadata": {
  "kernelspec": {
   "display_name": "Python 3",
   "language": "python",
   "name": "python3"
  },
  "language_info": {
   "codemirror_mode": {
    "name": "ipython",
    "version": 3
   },
   "file_extension": ".py",
   "mimetype": "text/x-python",
   "name": "python",
   "nbconvert_exporter": "python",
   "pygments_lexer": "ipython3",
   "version": "3.6.1"
  }
 },
 "nbformat": 4,
 "nbformat_minor": 2
}
