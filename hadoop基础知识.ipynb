{
 "cells": [
  {
   "cell_type": "markdown",
   "metadata": {},
   "source": [
    "# hadoop基础知识\n",
    "\n",
    "四大模块\n",
    "- [common](http://hadoop.apache.org/docs/current/hadoop-project-dist/hadoop-common/CLIMiniCluster.html)\n",
    "- [HDFS](http://hadoop.apache.org/docs/current/hadoop-project-dist/hadoop-hdfs/HdfsDesign.html)\n",
    "- [Yarn](http://hadoop.apache.org/docs/current/hadoop-yarn/hadoop-yarn-site/YARN.html)\n",
    "- [MapReduce](http://hadoop.apache.org/docs/current/hadoop-mapreduce-client/hadoop-mapreduce-client-core/MapReduceTutorial.html)\n"
   ]
  },
  {
   "cell_type": "markdown",
   "metadata": {},
   "source": [
    "### [HDFS架构](http://hadoop.apache.org/docs/current/hadoop-project-dist/hadoop-hdfs/HdfsDesign.html)\n",
    "\n",
    "- 分布式文件框架\n",
    "![](http://hadoop.apache.org/docs/current/hadoop-project-dist/hadoop-hdfs/images/hdfsarchitecture.png)"
   ]
  },
  {
   "cell_type": "markdown",
   "metadata": {},
   "source": [
    "**HDFS三个服务**\n",
    "\n",
    "- NameNode（老大） metadata 元数据\n",
    "- Secondary namenode（秘书）\n",
    "- DataNode（员工）\n",
    "\n",
    "> 文件名称、大小、所属人、地址 128K"
   ]
  },
  {
   "cell_type": "markdown",
   "metadata": {},
   "source": [
    "**HDFS设计目标**\n",
    "\n",
    "- 存储量大\n",
    "- 自动快速检测应对硬件错误\n",
    "- 流式访问数据\n",
    "- 移动计算比移动数据本身更划算\n",
    "- 简单一致性模型\n",
    "- 异构平台可移植"
   ]
  },
  {
   "cell_type": "markdown",
   "metadata": {},
   "source": [
    "### [Yarn](http://hadoop.apache.org/docs/current/hadoop-yarn/hadoop-yarn-site/YARN.html)\n",
    "\n",
    "组件\n",
    "\n",
    "- Client\n",
    "- ResourceManager、Application Master\n",
    "- NodeManager、Container\n",
    "\n",
    "其他组件\n",
    "- JobHistoryServer、TimelineServer\n",
    "- mr-jobhistory-daemon.sh start historyserver"
   ]
  },
  {
   "cell_type": "markdown",
   "metadata": {},
   "source": [
    "\n",
    "![](http://hadoop.apache.org/docs/current/hadoop-yarn/hadoop-yarn-site/yarn_architecture.gif)"
   ]
  },
  {
   "cell_type": "markdown",
   "metadata": {},
   "source": [
    "- [yarn详解](https://www.ibm.com/developerworks/cn/opensource/os-cn-hadoop-yarn/)"
   ]
  },
  {
   "cell_type": "markdown",
   "metadata": {},
   "source": [
    "** Yarn服务组件 **\n",
    "\n",
    "- Yarn总体上仍然是Master/Slave结构，在整个资源管理器框架中，ResourceManager 为Master， NodeManager为Slave\n",
    "- ResourceManager负责对各个NodeManager上的资源进行统一管理和调度\n",
    "- 当用户提交一个应用程序时，需要提供一个用以跟踪和管理这个程序的\n",
    "- Application Master，负责向ResourceManager申请资源，并要求NodeManager自动可以占用一定资源的任务\n",
    "- 由于不同的Application Master被分配到不同的节点上，因此他们之间不会相互影响。"
   ]
  },
  {
   "cell_type": "markdown",
   "metadata": {},
   "source": [
    "** ResourceManager **\n",
    "\n",
    "- 全局的资源管理器，整个集群只有一个，负责集群资源的统一管理和调度分配\n",
    "- 功能\n",
    "    - 处理客户端请求\n",
    "    - 启动/监控Application Master\n",
    "    - 监控NodeManager\n",
    "    - 资源分配与调度"
   ]
  },
  {
   "cell_type": "markdown",
   "metadata": {},
   "source": [
    "**NodeManager**\n",
    "\n",
    "- 整个集群有对个，负责单节点资源管理和使用\n",
    "- 功能\n",
    "    - 单个节点上的资源管理和任务管理\n",
    "    - 处理来自ResourceManager 的命令\n",
    "    - 处理来自ApplicationMaster的命令\n",
    "- NodeManager管理抽象容器，这些容器代表着可供一个特定应用程序使用的针对每个节点的资源\n",
    "- 定时地向RM汇报本节点上的资源使用情况和各个Container的运行状态"
   ]
  },
  {
   "cell_type": "markdown",
   "metadata": {},
   "source": [
    "**Application Master**\n",
    "\n",
    "- 管理一个在YARN内运行的应用程序的每个实例\n",
    "- 功能\n",
    "    - 数据切分\n",
    "    - 为应用程序申请资源，并进一步分配给内部任务\n",
    "    - 任务监控与容错\n",
    "- 负责协调来自ResourceManager的资源，并开通NodeManager监视容器的执行和资源使用（CPU、内存等的资源分配）"
   ]
  },
  {
   "cell_type": "markdown",
   "metadata": {},
   "source": [
    "**Container**\n",
    "\n",
    "- YARN中的资源抽象，封装某个节点山多维资源，如内存、CPU、磁盘、网络等，当AM向RM申请资源时，RM向AM返回的资源便是Container表示的。\n",
    "- YRAN会为每个任务分配一个Container，且任务只能使用该Container中描述的资源\n",
    "- 功能\n",
    "    - 对任务运行环境的抽象\n",
    "    - 描述一系列信息\n",
    "    - 任务运行资源（节点、内存、CPU）\n",
    "    - 任务启动命令\n",
    "    - 任务运行环境"
   ]
  },
  {
   "cell_type": "code",
   "execution_count": null,
   "metadata": {
    "collapsed": true
   },
   "outputs": [],
   "source": [
    "\n"
   ]
  }
 ],
 "metadata": {
  "kernelspec": {
   "display_name": "Python 3",
   "language": "python",
   "name": "python3"
  },
  "language_info": {
   "codemirror_mode": {
    "name": "ipython",
    "version": 3
   },
   "file_extension": ".py",
   "mimetype": "text/x-python",
   "name": "python",
   "nbconvert_exporter": "python",
   "pygments_lexer": "ipython3",
   "version": "3.6.1"
  }
 },
 "nbformat": 4,
 "nbformat_minor": 2
}
