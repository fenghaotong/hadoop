{
 "cells": [
  {
   "cell_type": "markdown",
   "metadata": {},
   "source": [
    "## [zookeeper](http://zookeeper.apache.org/doc/current/zookeeperOver.html)"
   ]
  },
  {
   "cell_type": "markdown",
   "metadata": {},
   "source": [
    "- 管理分布式服务\n",
    "- 通过分布式服务的一致性、对分布式服务做协调\n",
    "- **强一致性**\n",
    "- 弱一致性\n",
    "- 最终一致性"
   ]
  },
  {
   "cell_type": "markdown",
   "metadata": {},
   "source": [
    "![](http://zookeeper.apache.org/doc/current/images/zkservice.jpg)"
   ]
  },
  {
   "cell_type": "markdown",
   "metadata": {},
   "source": [
    "ZK集群一般需要奇数台服务器。当半数以上的服务器可用是，ZK启动服务。"
   ]
  },
  {
   "cell_type": "markdown",
   "metadata": {},
   "source": [
    "类似文件系统的一个树形结构，用于携带少量的数据   \n",
    "传统文件系统设计用于大量数据，ZK用户存储少量数据来进行协调服务，每一个znode节点既是目录又是文件"
   ]
  },
  {
   "cell_type": "markdown",
   "metadata": {},
   "source": [
    "![](http://zookeeper.apache.org/doc/current/images/zknamespace.jpg)"
   ]
  },
  {
   "cell_type": "markdown",
   "metadata": {},
   "source": [
    "- znode节点有四种\n",
    "    - 普通znode：/name  /name  (覆盖name)\n",
    "    - 普通序列化znode：/name000000001  /name0000000002 (重命名name)\n",
    "    - 临时znode：当session退出或者失效，则该节点消失\n",
    "    - 临时序列化znode："
   ]
  },
  {
   "cell_type": "markdown",
   "metadata": {
    "collapsed": true
   },
   "source": [
    "[zookeeper配置](hadoop配置.ipynb#zookeeper)"
   ]
  },
  {
   "cell_type": "markdown",
   "metadata": {},
   "source": [
    "### zookeeper测试"
   ]
  },
  {
   "cell_type": "markdown",
   "metadata": {},
   "source": [
    "**启动zkServer.sh start(至少一半以上的机器启动)**\n",
    "- 查看jps，有一个QuorumPeerMainjin进程\n",
    "- 查看zkServer.sh status状态"
   ]
  },
  {
   "cell_type": "markdown",
   "metadata": {},
   "source": [
    "**客户端连接**\n",
    "\n",
    "- zkCli.sh (不加参数默认为本机)\n",
    "- quit (退出)\n",
    "- zkCli.sh -server hadoop2:2181\n",
    "- 进入本地主机之后可以使用`connect host:post`切换主机"
   ]
  },
  {
   "cell_type": "markdown",
   "metadata": {},
   "source": [
    "**创建节点**\n",
    "```\n",
    "create /name \"zhangsan\" ()\n",
    "get /name\n",
    "create -e /class \"ht\" (创建临时节点,quit之后消失)\n",
    "create -s /name \"lisi\" (创建序列化节点，quit之后消失)\n",
    "```"
   ]
  },
  {
   "cell_type": "markdown",
   "metadata": {},
   "source": [
    "**修改节点的值**\n",
    "\n",
    "```\n",
    "set /name 'ht'\n",
    "```"
   ]
  },
  {
   "cell_type": "markdown",
   "metadata": {},
   "source": [
    "**删除节点**\n",
    "\n",
    "```\n",
    "delete /name\n",
    "rmr /name  (递归删除)\n",
    "```"
   ]
  },
  {
   "cell_type": "code",
   "execution_count": null,
   "metadata": {
    "collapsed": true
   },
   "outputs": [],
   "source": []
  }
 ],
 "metadata": {
  "kernelspec": {
   "display_name": "Python 3",
   "language": "python",
   "name": "python3"
  },
  "language_info": {
   "codemirror_mode": {
    "name": "ipython",
    "version": 3
   },
   "file_extension": ".py",
   "mimetype": "text/x-python",
   "name": "python",
   "nbconvert_exporter": "python",
   "pygments_lexer": "ipython3",
   "version": "3.6.1"
  }
 },
 "nbformat": 4,
 "nbformat_minor": 2
}
