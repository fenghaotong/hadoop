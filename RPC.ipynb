{
 "cells": [
  {
   "cell_type": "markdown",
   "metadata": {},
   "source": [
    "# RPC"
   ]
  },
  {
   "cell_type": "markdown",
   "metadata": {},
   "source": [
    "**hello.java**"
   ]
  },
  {
   "cell_type": "markdown",
   "metadata": {},
   "source": [
    "```java\n",
    "package test.rpc;\n",
    "\n",
    "/**\n",
    " * rpc中协议\n",
    " * @author htfeng\n",
    " *\n",
    " */\n",
    "public interface hello {\n",
    "\tpublic static final long versionID = 1;\n",
    "\t\n",
    "\t/**\n",
    "\t * 协议\n",
    "\t * @param words\n",
    "\t * @return\n",
    "\t */\n",
    "\tpublic String say(String words);\n",
    "}\n",
    "\n",
    "```"
   ]
  },
  {
   "cell_type": "markdown",
   "metadata": {},
   "source": [
    "**RPCServer.java**"
   ]
  },
  {
   "cell_type": "markdown",
   "metadata": {},
   "source": [
    "```java\n",
    "package test.rpc;\n",
    "\n",
    "import org.apache.hadoop.conf.Configuration;\n",
    "import org.apache.hadoop.ipc.RPC;\n",
    "import org.apache.hadoop.ipc.RPC.Server;\n",
    "\n",
    "/**\n",
    " * rpc中的server\n",
    " * @author htfeng\n",
    " *\n",
    " */\n",
    "public class RPCServer implements hello{\n",
    "\tpublic String say(String words) {\n",
    "\t\t//TODO\n",
    "\t\tSystem.out.println(words);\n",
    "\t\t//逻辑代码\n",
    "\t\treturn \"recived datanode1 heartbeats\";\n",
    "\t}\n",
    "\t\n",
    "\tpublic static void main(String [] args) {\n",
    "\t\ttry {\n",
    "\t\t\t//获取一个服务\n",
    "\t\t\tServer\tserver = new RPC.Builder(new Configuration())\n",
    "\t\t\t\t\t.setInstance(new RPCServer())\n",
    "\t\t\t\t\t.setProtocol(hello.class)\n",
    "\t\t\t\t\t.setBindAddress(\"127.0.0.1\")\n",
    "\t\t\t\t\t.setPort(6666)\n",
    "\t\t\t\t\t.build();\n",
    "\t\t\t//启动服务\n",
    "\t\t\tserver.start();\n",
    "\t\t\tSystem.out.println(\"server is started.....\");\n",
    "\t\t} catch (Exception e) {\n",
    "\t\t\t//TODO\n",
    "\t\t}\n",
    "\t}\n",
    "}\n",
    "```"
   ]
  },
  {
   "cell_type": "markdown",
   "metadata": {},
   "source": [
    "**RPCClient.java**"
   ]
  },
  {
   "cell_type": "markdown",
   "metadata": {},
   "source": [
    "```java\n",
    "package test.rpc;\n",
    "\n",
    "import java.io.IOException;\n",
    "import java.net.InetSocketAddress;\n",
    "\n",
    "import org.apache.hadoop.conf.Configuration;\n",
    "import org.apache.hadoop.ipc.RPC;\n",
    "\n",
    "/**\n",
    " * RPC中的客户端\n",
    " * @author htfeng\n",
    " *\n",
    " */\n",
    "public class RPCClient {\n",
    "\tpublic static void main(String[] args) {\n",
    "\t\ttry {\n",
    "\t\t\twhile(true) {\n",
    "\t\t\t\thello hi = RPC.getProxy(hello.class, 1, new InetSocketAddress(\"127.0.0.1\", 6666), new Configuration());\n",
    "\t\t\t\tString res = hi.say(\"I am datanode1, I am live\");\n",
    "\t\t\t\tSystem.out.println(res);\n",
    "\t\t\t\tThread.sleep(2000);\n",
    "\t\t\t}\n",
    "\t\t} catch (IOException e) {\n",
    "\t\t\te.printStackTrace();\n",
    "\t\t} catch (InterruptedException e) {\n",
    "\t\t\t// TODO Auto-generated catch block\n",
    "\t\t\te.printStackTrace();\n",
    "\t\t}\n",
    "\t}\n",
    "}\n",
    "\n",
    "```"
   ]
  },
  {
   "cell_type": "code",
   "execution_count": null,
   "metadata": {
    "collapsed": true
   },
   "outputs": [],
   "source": []
  }
 ],
 "metadata": {
  "kernelspec": {
   "display_name": "Python 3",
   "language": "python",
   "name": "python3"
  },
  "language_info": {
   "codemirror_mode": {
    "name": "ipython",
    "version": 3
   },
   "file_extension": ".py",
   "mimetype": "text/x-python",
   "name": "python",
   "nbconvert_exporter": "python",
   "pygments_lexer": "ipython3",
   "version": "3.6.1"
  }
 },
 "nbformat": 4,
 "nbformat_minor": 2
}
